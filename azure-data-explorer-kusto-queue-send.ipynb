{
 "cells": [
  {
   "cell_type": "markdown",
   "id": "e29d1809-3ad1-45bf-949a-cacf4bfa7f1d",
   "metadata": {},
   "source": [
    "# Azure Data Explorer Kusto Query Queue: Send"
   ]
  },
  {
   "cell_type": "code",
   "execution_count": null,
   "id": "8981747d-328e-4917-bff5-886201ea2da3",
   "metadata": {
    "tags": []
   },
   "outputs": [],
   "source": [
    "from azure.storage.queue import QueueClient\n",
    "from typing import List, Dict, Generator\n",
    "\n",
    "import pandas as pd\n",
    "import logging \n",
    "import json\n",
    "import time\n",
    "import os\n",
    "\n",
    "logging_timestamp = str(pd.Timestamp.today())\n",
    "logging_timestamp = logging_timestamp.replace(\"-\",\"\").replace(\":\",\"\").replace(\".\",\"\").replace(\" \",\"\")\n",
    "logging.basicConfig(\n",
    "    filename=f\"kqq-send-{logging_timestamp}.log\",\n",
    "    format='%(asctime)s %(levelname)s %(message)s',\n",
    "    filemode='w'\n",
    ")\n",
    "logger = logging.getLogger()\n",
    "logger.setLevel(logging.INFO)\n",
    "\n",
    "def get_datetime_ranges(\n",
    "    start_datetime: str, \n",
    "    end_datetime: str, \n",
    "    frequency: str = '1h'\n",
    ") -> List[Dict]:\n",
    "    \"\"\"\n",
    "    Converts start and end dates to time range pairs by frequency\n",
    "    Args:\n",
    "        start_datetime: time range start, example: \"2007-01-01 00:00:00\"\n",
    "        end_datetime: time range end, example: \"2007-01-02 00:00:00\"\n",
    "        frequency: time amount between sub-queries, ie. \"1h\" is 1 hour\n",
    "    Returns:\n",
    "        list of dictionaries with start and end timestamps \n",
    "    \"\"\"\n",
    "    time_ranges = pd.date_range(\n",
    "        start_datetime, \n",
    "        end_datetime, \n",
    "        freq=frequency\n",
    "    )\n",
    "    start_and_end_datetimes = []\n",
    "    for each_index, each_time in enumerate(time_ranges):\n",
    "        if each_index < len(time_ranges)-1:\n",
    "            start_and_end_datetimes.append(\n",
    "                {\n",
    "                    \"start_datetime\" : str(each_time),\n",
    "                    \"end_datetime\" : str(time_ranges[each_index+1])\n",
    "                }\n",
    "            )\n",
    "    return start_and_end_datetimes\n",
    "\n",
    "def get_query_template(query_template_filename: str) -> str:\n",
    "    \"\"\"\n",
    "    Reads in query template from filename\n",
    "    Args:\n",
    "        query_template_filename: path to filename\n",
    "    Returns:\n",
    "        kql query template string\n",
    "    \"\"\"\n",
    "    with open(query_template_filename, 'r') as f:\n",
    "        query_template = f.read()\n",
    "    return query_template\n",
    "\n",
    "def generate_each_query_from_template(\n",
    "    start_datetime:str, \n",
    "    end_datetime:str, \n",
    "    query_template:str\n",
    ") -> str:\n",
    "    \"\"\"\n",
    "    Generates query using template and provided datetimes\n",
    "    Args:\n",
    "        start_datetime: time range start, example: \"2007-01-01 00:00:00\"\n",
    "        end_date: time range end, example: \"2007-01-02 00:00:00\"\n",
    "        query_template: kql query template string\n",
    "    Returns:\n",
    "        query text string\n",
    "    \"\"\"\n",
    "    query = query_template.replace(\"<START_DATETIME_STRING>\", start_datetime)\n",
    "    query = query.replace(\"<END_DATETIME_STRING>\", end_datetime)\n",
    "    return query \n",
    "\n",
    "def generate_queries(\n",
    "    start_datetime: str, \n",
    "    end_datetime: str, \n",
    "    frequency: str, \n",
    "    query_template_filename: str\n",
    ") -> Generator:\n",
    "    \"\"\"\n",
    "    Generates\n",
    "    Args:\n",
    "        start_datetime: time range start, example: \"2007-01-01 00:00:00\"\n",
    "        end_date: time range end, example: \"2007-01-02 00:00:00\"\n",
    "        frequency: time amount between sub-queries, ie. \"1h\" is 1 hour\n",
    "        query_template_filename: path to filename\n",
    "    Returns:\n",
    "        generator of dictionaries\n",
    "    \"\"\"\n",
    "    # gets list of datetime ranges \n",
    "    datetime_ranges = get_datetime_ranges(\n",
    "        start_datetime, \n",
    "        end_datetime, \n",
    "        frequency\n",
    "    )\n",
    "    # gets kql query template\n",
    "    query_template = get_query_template(query_template_filename)\n",
    "    # generates queries \n",
    "    for each_datetime_range in datetime_ranges:\n",
    "        each_datetime_start = each_datetime_range[\"start_datetime\"]\n",
    "        each_datetime_end = each_datetime_range[\"end_datetime\"]\n",
    "        each_query = generate_each_query_from_template(\n",
    "            each_datetime_start, \n",
    "            each_datetime_end, \n",
    "            query_template\n",
    "        )\n",
    "        each_output = {\n",
    "            \"start_datetime\" : each_datetime_start,\n",
    "            \"end_datetime\" : each_datetime_end,\n",
    "            \"query\" : each_query\n",
    "        }\n",
    "        yield json.dumps(each_output)\n",
    "\n",
    "def create_queue_and_send_messages(\n",
    "    queue_client: QueueClient, \n",
    "    start_datetime: str, \n",
    "    end_datetime: str, \n",
    "    query_template_filename: str,\n",
    "    frequency: str = \"1h\",\n",
    "    request_wait_seconds: int = 1,\n",
    ") -> str:\n",
    "    \"\"\"\n",
    "    Args:\n",
    "        queue_client: azure storage QueueClient object\n",
    "        start_datetime: time range start, example: \"2007-01-01 00:00:00\"\n",
    "        end_datetime: time range end, example: \"2007-01-02 00:00:00\"\n",
    "        query_template_filename: path filename to kql query template\n",
    "        frequency: time amount between sub-queries, ie. \"1h\" is 1 hour\n",
    "        request_wait_seconds: sleep time between http requests \n",
    "    \"\"\"\n",
    "    # add queries to queue\n",
    "    queries = generate_queries(\n",
    "        start_datetime, \n",
    "        end_datetime, \n",
    "        frequency, \n",
    "        query_template_filename\n",
    "    )\n",
    "    for each_query in queries:\n",
    "        try:\n",
    "            queue_client.send_message(each_query)\n",
    "        except Exception as e:\n",
    "            print(f\"unable to submit query: {each_query}, exception: {e}\")\n",
    "        finally:\n",
    "            time.sleep(request_wait_seconds)\n",
    "    queue_properties = queue_client.get_queue_properties()\n",
    "    logger.info(f\"{queue_properties}\")\n",
    "    print(f\"{queue_properties}\")"
   ]
  },
  {
   "cell_type": "markdown",
   "id": "ac30c2e2-001c-4075-9947-0dfa53341412",
   "metadata": {},
   "source": [
    "## Azure Authentication"
   ]
  },
  {
   "cell_type": "code",
   "execution_count": null,
   "id": "bffed252-3960-4f29-a46d-2e606265b8b6",
   "metadata": {
    "tags": []
   },
   "outputs": [],
   "source": [
    "# storage account authentication for queue\n",
    "# how to: storage account -> access keys -> connection string\n",
    "# os.environ[\"AZURE_STORAGE_CONNECTION_STRING\"] = \"XXXXXXXXXXXXXXXXXXXXXXXXXXXXXXXXXXXX\"\n",
    "storage_connection_str = os.getenv('AZURE_STORAGE_CONNECTION_STRING')"
   ]
  },
  {
   "cell_type": "code",
   "execution_count": null,
   "id": "5f756fd2-2ce9-48d1-9f99-20b15af8baeb",
   "metadata": {
    "tags": []
   },
   "outputs": [],
   "source": [
    "# queue connection \n",
    "queue_name = f\"kusto-query-queue-123\"\n",
    "queue_client = QueueClient.from_connection_string(\n",
    "    storage_connection_str, \n",
    "    queue_name\n",
    ")\n",
    "queue_client.create_queue()"
   ]
  },
  {
   "cell_type": "markdown",
   "id": "1e9ecf98-d3e4-4e9b-8b83-062be0e8ac56",
   "metadata": {},
   "source": [
    "## User Inputs"
   ]
  },
  {
   "cell_type": "code",
   "execution_count": null,
   "id": "80876d12-d0a8-4eb4-adca-c00aa1fa620a",
   "metadata": {
    "tags": []
   },
   "outputs": [],
   "source": [
    "start_datetime = \"2007-01-01 00:00:00\"\n",
    "end_datetime = \"2007-01-01 10:00:00\"\n",
    "query_template_filename = \"./azue-data-explorer-kusto-queue-query-template.kql\""
   ]
  },
  {
   "cell_type": "markdown",
   "id": "bcfcc5df-0b26-49aa-8d9c-698c1508844e",
   "metadata": {},
   "source": [
    "## Run"
   ]
  },
  {
   "cell_type": "code",
   "execution_count": null,
   "id": "fac17c56-3a27-431a-b5b4-61ac1b17205f",
   "metadata": {
    "tags": []
   },
   "outputs": [],
   "source": [
    "create_queue_and_send_messages(\n",
    "    queue_client, \n",
    "    start_datetime, \n",
    "    end_datetime, \n",
    "    query_template_filename,\n",
    ")"
   ]
  },
  {
   "cell_type": "code",
   "execution_count": null,
   "id": "1261b199-87e6-474e-a510-32053b291437",
   "metadata": {},
   "outputs": [],
   "source": []
  }
 ],
 "metadata": {
  "kernelspec": {
   "display_name": "Python 3 (ipykernel)",
   "language": "python",
   "name": "python3"
  },
  "language_info": {
   "codemirror_mode": {
    "name": "ipython",
    "version": 3
   },
   "file_extension": ".py",
   "mimetype": "text/x-python",
   "name": "python",
   "nbconvert_exporter": "python",
   "pygments_lexer": "ipython3",
   "version": "3.11.4"
  }
 },
 "nbformat": 4,
 "nbformat_minor": 5
}
